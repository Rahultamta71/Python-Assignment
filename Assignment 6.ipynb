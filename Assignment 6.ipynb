{
 "cells": [
  {
   "cell_type": "code",
   "execution_count": null,
   "id": "2cd8b981",
   "metadata": {},
   "outputs": [],
   "source": [
    "\"\"\"1. What are escape characters, and how do you use them?\n",
    "To insert characters that are illegal in a string we use an escape character.An escape character is a backslash \\ followed by the character you want to insert.\n",
    "insert = \" hello world \\cricket\\ python \".\n",
    "\"\"\""
   ]
  },
  {
   "cell_type": "code",
   "execution_count": null,
   "id": "6d338c13",
   "metadata": {},
   "outputs": [],
   "source": [
    "\"\"\"2. What do the escape characters n and t stand for?\n",
    "\\n stands for new line & \\t stands for Tab.\n",
    "\n",
    "\"\"\""
   ]
  },
  {
   "cell_type": "code",
   "execution_count": null,
   "id": "184599b5",
   "metadata": {},
   "outputs": [],
   "source": [
    "\"\"\"3. What is the way to include backslash characters in a string?\n",
    "The \\\\ escape character will represent a backslash characters in a string.\n",
    "\n",
    "\"\"\""
   ]
  },
  {
   "cell_type": "code",
   "execution_count": null,
   "id": "762ba781",
   "metadata": {},
   "outputs": [],
   "source": [
    "\"\"\"4. The string \"Howl's Moving Castle\" is a correct value. Why isn't the single quote character in the word Howl's not escaped a problem?\n",
    "\n",
    "The single quote in Howl's is fine because double quotes is mark at the beginning and end of the string.\n",
    "\n",
    "\n",
    "\"\"\""
   ]
  },
  {
   "cell_type": "code",
   "execution_count": null,
   "id": "2a9c3db3",
   "metadata": {},
   "outputs": [],
   "source": [
    "\"\"\"5. How do you write a string of newlines if you don't want to use the n character?\n",
    "Multiline strings allow you to use newlines in strings without the \\n escape character.\n",
    "\"\"\""
   ]
  },
  {
   "cell_type": "code",
   "execution_count": 4,
   "id": "21cccf93",
   "metadata": {},
   "outputs": [
    {
     "data": {
      "text/plain": [
       "'e'"
      ]
     },
     "execution_count": 4,
     "metadata": {},
     "output_type": "execute_result"
    }
   ],
   "source": [
    "\"\"\"6. What are the values of the given expressions?\n",
    "'Hello, world!'[1]\n",
    "'Hello, world!'[0:5]\n",
    "'Hello, world!'[:5]\n",
    "'Hello, world!'[3:]\n",
    "\n",
    "\n",
    "\"\"\"\n",
    "'Hello, world!'[1]\n"
   ]
  },
  {
   "cell_type": "code",
   "execution_count": 5,
   "id": "45328ca1",
   "metadata": {},
   "outputs": [
    {
     "data": {
      "text/plain": [
       "'Hello'"
      ]
     },
     "execution_count": 5,
     "metadata": {},
     "output_type": "execute_result"
    }
   ],
   "source": [
    "'Hello, world!'[0:5]"
   ]
  },
  {
   "cell_type": "code",
   "execution_count": 6,
   "id": "82178d86",
   "metadata": {},
   "outputs": [
    {
     "data": {
      "text/plain": [
       "'Hello'"
      ]
     },
     "execution_count": 6,
     "metadata": {},
     "output_type": "execute_result"
    }
   ],
   "source": [
    "'Hello, world!'[:5]"
   ]
  },
  {
   "cell_type": "code",
   "execution_count": 7,
   "id": "ef43103b",
   "metadata": {},
   "outputs": [
    {
     "data": {
      "text/plain": [
       "'lo, world!'"
      ]
     },
     "execution_count": 7,
     "metadata": {},
     "output_type": "execute_result"
    }
   ],
   "source": [
    "'Hello, world!'[3:]"
   ]
  },
  {
   "cell_type": "code",
   "execution_count": null,
   "id": "445df9ad",
   "metadata": {},
   "outputs": [],
   "source": [
    "\"\"\"7. What are the values of the following expressions?\n",
    "'Hello'.upper()\n",
    "'Hello'.upper().isupper()\n",
    "'Hello'.upper().lower()\n",
    "\"\"\""
   ]
  },
  {
   "cell_type": "code",
   "execution_count": 8,
   "id": "aafb492a",
   "metadata": {},
   "outputs": [
    {
     "data": {
      "text/plain": [
       "'HELLO'"
      ]
     },
     "execution_count": 8,
     "metadata": {},
     "output_type": "execute_result"
    }
   ],
   "source": [
    "\"Hello\".upper()"
   ]
  },
  {
   "cell_type": "code",
   "execution_count": 9,
   "id": "4d01c09e",
   "metadata": {},
   "outputs": [
    {
     "data": {
      "text/plain": [
       "True"
      ]
     },
     "execution_count": 9,
     "metadata": {},
     "output_type": "execute_result"
    }
   ],
   "source": [
    "\"Hello\".upper().isupper()"
   ]
  },
  {
   "cell_type": "code",
   "execution_count": 10,
   "id": "43ace79a",
   "metadata": {},
   "outputs": [
    {
     "data": {
      "text/plain": [
       "'hello'"
      ]
     },
     "execution_count": 10,
     "metadata": {},
     "output_type": "execute_result"
    }
   ],
   "source": [
    "\"Hello\".upper().lower()"
   ]
  },
  {
   "cell_type": "code",
   "execution_count": null,
   "id": "f9d9e540",
   "metadata": {},
   "outputs": [],
   "source": [
    "\"\"\"8. What are the values of the following expressions?\n",
    "'Remember, remember, the fifth of July.'.split()\n",
    "'-'.join('There can only one.'.split())\n",
    "\"\"\""
   ]
  },
  {
   "cell_type": "code",
   "execution_count": 11,
   "id": "47f2dd31",
   "metadata": {},
   "outputs": [
    {
     "data": {
      "text/plain": [
       "['Remember', ',', 'remember', ',', 'the', 'fifth', 'of', 'july.']"
      ]
     },
     "execution_count": 11,
     "metadata": {},
     "output_type": "execute_result"
    }
   ],
   "source": [
    "\"Remember , remember , the fifth of july.\".split()"
   ]
  },
  {
   "cell_type": "code",
   "execution_count": 12,
   "id": "26170d27",
   "metadata": {},
   "outputs": [
    {
     "data": {
      "text/plain": [
       "'There-can-only-one.'"
      ]
     },
     "execution_count": 12,
     "metadata": {},
     "output_type": "execute_result"
    }
   ],
   "source": [
    "\"-\".join(\"There can only one.\".split())"
   ]
  },
  {
   "cell_type": "code",
   "execution_count": null,
   "id": "aa778b95",
   "metadata": {},
   "outputs": [],
   "source": [
    "\"\"\"9. What are the methods for right-justifying, left-justifying, and centering a string?\n",
    "right-justifying we use rjust()\n",
    "left-justifying we use ljust()\n",
    "centring we use center()\n",
    "\n",
    "\"\"\""
   ]
  },
  {
   "cell_type": "code",
   "execution_count": null,
   "id": "0eedb22d",
   "metadata": {},
   "outputs": [],
   "source": [
    "\"\"\"10. What is the best way to remove whitespace characters from the start or end?\n",
    "The lstrip() and rstrip() methods remove whitespace from start to end.\n",
    "\n",
    "\"\"\""
   ]
  }
 ],
 "metadata": {
  "kernelspec": {
   "display_name": "Python 3 (ipykernel)",
   "language": "python",
   "name": "python3"
  },
  "language_info": {
   "codemirror_mode": {
    "name": "ipython",
    "version": 3
   },
   "file_extension": ".py",
   "mimetype": "text/x-python",
   "name": "python",
   "nbconvert_exporter": "python",
   "pygments_lexer": "ipython3",
   "version": "3.9.7"
  }
 },
 "nbformat": 4,
 "nbformat_minor": 5
}
