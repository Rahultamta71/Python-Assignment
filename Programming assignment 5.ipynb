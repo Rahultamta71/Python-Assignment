{
 "cells": [
  {
   "cell_type": "code",
   "execution_count": 10,
   "id": "985dc01b",
   "metadata": {},
   "outputs": [],
   "source": [
    "# 1. Write a Python Program to Find LCM?\n",
    "def calculate_lcm(x, y):  \n",
    "    if x > y:  \n",
    "        greater = x  \n",
    "    else:  \n",
    "        greater = y  \n",
    "    while(True):  \n",
    "        if((greater % x == 0) and (greater % y == 0)):  \n",
    "            lcm = greater  \n",
    "            break  \n",
    "        greater += 1  \n",
    "    return lcm    \n",
    "      "
   ]
  },
  {
   "cell_type": "code",
   "execution_count": 12,
   "id": "1b7ae4c7",
   "metadata": {},
   "outputs": [
    {
     "data": {
      "text/plain": [
       "120"
      ]
     },
     "execution_count": 12,
     "metadata": {},
     "output_type": "execute_result"
    }
   ],
   "source": [
    "calculate_lcm(10,24)"
   ]
  },
  {
   "cell_type": "code",
   "execution_count": 14,
   "id": "e87c41df",
   "metadata": {},
   "outputs": [],
   "source": [
    "# 2.Write a Python Program to Find HCF?\n",
    "def calculate_hcf(x,y):\n",
    "    if x > y:\n",
    "        smaller = y\n",
    "    else:\n",
    "        smaller = x\n",
    "    for i in range(1,smaller+1):\n",
    "        if((x % i ==0) and (y % i == 0)):\n",
    "            hcf = i\n",
    "    return hcf"
   ]
  },
  {
   "cell_type": "code",
   "execution_count": 21,
   "id": "a2e9d74f",
   "metadata": {},
   "outputs": [
    {
     "data": {
      "text/plain": [
       "1"
      ]
     },
     "execution_count": 21,
     "metadata": {},
     "output_type": "execute_result"
    }
   ],
   "source": [
    "calculate_hcf(3,4)"
   ]
  },
  {
   "cell_type": "code",
   "execution_count": 26,
   "id": "57ecadfe",
   "metadata": {},
   "outputs": [
    {
     "name": "stdout",
     "output_type": "stream",
     "text": [
      "Enter the number 3333\n",
      "the decimal value of  3333 is\n",
      "0b110100000101 in binary \n",
      "0o6405 in octal \n",
      "0xd05 in hexadecimal \n"
     ]
    }
   ],
   "source": [
    "# 3.Write a Python Program to Convert Decimal to Binary, Octal and Hexadecimal?\n",
    "dec = int(input(\"Enter the number \"))\n",
    "print(\"the decimal value of \" , dec , \"is\")\n",
    "print(bin(dec) , \"in binary \")\n",
    "print(oct(dec) , \"in octal \")\n",
    "print(hex(dec) , \"in hexadecimal \")"
   ]
  },
  {
   "cell_type": "code",
   "execution_count": 29,
   "id": "b8dfc4ea",
   "metadata": {},
   "outputs": [
    {
     "name": "stdout",
     "output_type": "stream",
     "text": [
      "Enter the character r\n",
      "The ASCII value of ris 114\n"
     ]
    }
   ],
   "source": [
    "# 4.Write a Python Program To Find ASCII value of a character?\n",
    "a = input(\"Enter the character \")\n",
    "print(\"The ASCII value of \" + a + \"is\" , ord(a))"
   ]
  },
  {
   "cell_type": "code",
   "execution_count": 25,
   "id": "65666d2c",
   "metadata": {},
   "outputs": [
    {
     "name": "stdout",
     "output_type": "stream",
     "text": [
      "Please select the operation.\n",
      "a. Add\n",
      "b. Subtract\n",
      "c. Multiply\n",
      "d. Divide\n",
      "Please enter choice (a/ b/ c/ d) a\n",
      "Please enter the first number: 44\n",
      "Please enter the second number: 4\n",
      "44  +  4  =  48\n"
     ]
    }
   ],
   "source": [
    "def add(a,b):    \n",
    "# This function is used for adding two numbers   \n",
    "   return a + b   \n",
    "def subtract(a,b ):   \n",
    "# This function is used for subtracting two numbers   \n",
    "   return a - b   \n",
    "def multiply(a,b):   \n",
    "   # This function is used for multiplying two numbers   \n",
    "   return a * b   \n",
    "def bdivide(a,b):   \n",
    "   # This function is used for dividing two numbers    \n",
    "   return a/b    \n",
    "# Now we will take inputs from the user    \n",
    "print (\"Please select the operation.\")    \n",
    "print (\"a. Add\")    \n",
    "print (\"b. Subtract\")    \n",
    "print (\"c. Multiply\")    \n",
    "print (\"d. Divide\")    \n",
    "    \n",
    "choice = input(\"Please enter choice (a/ b/ c/ d) \")    \n",
    "    \n",
    "num1 = int (input (\"Please enter the first number: \"))    \n",
    "num2 = int (input (\"Please enter the second number: \"))    \n",
    "    \n",
    "if choice == 'a':    \n",
    "    print(num1, \" + \", num2, \" = \", add(num1, num2))    \n",
    "elif choice == 'b':\n",
    "    print(num1, \" - \", num2, \" = \", subtract(num1, num2))\n",
    "elif choice == 'c':\n",
    "    print (num1, \" * \", num2, \" = \", multiply(num1, num2))    \n",
    "elif choice == 'd':\n",
    "    print (num1, \" / \", num2, \" = \", divide(num1, num2))    \n",
    "else:\n",
    "    print (\"This is an invalid input\")   "
   ]
  },
  {
   "cell_type": "code",
   "execution_count": null,
   "id": "a7a44857",
   "metadata": {},
   "outputs": [],
   "source": []
  }
 ],
 "metadata": {
  "kernelspec": {
   "display_name": "Python 3 (ipykernel)",
   "language": "python",
   "name": "python3"
  },
  "language_info": {
   "codemirror_mode": {
    "name": "ipython",
    "version": 3
   },
   "file_extension": ".py",
   "mimetype": "text/x-python",
   "name": "python",
   "nbconvert_exporter": "python",
   "pygments_lexer": "ipython3",
   "version": "3.9.7"
  }
 },
 "nbformat": 4,
 "nbformat_minor": 5
}
