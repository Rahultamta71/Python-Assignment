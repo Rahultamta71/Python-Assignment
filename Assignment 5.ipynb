{
 "cells": [
  {
   "cell_type": "code",
   "execution_count": 1,
   "id": "8de909b2",
   "metadata": {},
   "outputs": [],
   "source": [
    "######### Assignment 5 ##########"
   ]
  },
  {
   "cell_type": "code",
   "execution_count": null,
   "id": "8252420c",
   "metadata": {},
   "outputs": [],
   "source": [
    "\"\"\" 1. What does an empty dictionary's code look like?\n",
    "an empty dictionary code look like this.. {} two curly brackets\n",
    "\n",
    "\"\"\""
   ]
  },
  {
   "cell_type": "code",
   "execution_count": null,
   "id": "7d45b635",
   "metadata": {},
   "outputs": [],
   "source": [
    "\"\"\" 2. What is the value of a dictionary value with the key 'foo' and the value 42?\n",
    "dict = {\"foo\" : 42}\n",
    "\n",
    "\"\"\""
   ]
  },
  {
   "cell_type": "code",
   "execution_count": null,
   "id": "61a2fc31",
   "metadata": {},
   "outputs": [],
   "source": [
    "\"\"\" 3. What is the most significant distinction between a dictionary and a list?\n",
    "The items stored in a dictionary are unordered while the items in a list are ordered.\n",
    "\n",
    "\"\"\""
   ]
  },
  {
   "cell_type": "code",
   "execution_count": null,
   "id": "179f6587",
   "metadata": {},
   "outputs": [],
   "source": [
    "\"\"\" 4. What happens if you try to access spam['foo'] if spam is {'bar': 100}?\n",
    "You get a KeyError error.\n",
    "\"\"\"\n"
   ]
  },
  {
   "cell_type": "code",
   "execution_count": null,
   "id": "851e5998",
   "metadata": {},
   "outputs": [],
   "source": [
    "\"\"\" 5. If a dictionary is stored in spam, what is the difference between the expressions 'cat' in spam and 'cat' in spam.keys()?\n",
    "There is no difference the in operator checks whether a value exists as a key in the dictionary.\n",
    "\n",
    "\"\"\"\n"
   ]
  },
  {
   "cell_type": "code",
   "execution_count": null,
   "id": "dc7143d6",
   "metadata": {},
   "outputs": [],
   "source": [
    "\"\"\"6. If a dictionary is stored in spam, what is the difference between the expressions 'cat' in spam and 'cat' in spam.values()?\n",
    "'cat' in spam checks whether there is a 'cat' key in the dictionary, while 'cat' in spam.values() checks whether there is a value 'cat' for one of the keys in spam.\n",
    "\n",
    "\"\"\""
   ]
  },
  {
   "cell_type": "code",
   "execution_count": null,
   "id": "b6752ab0",
   "metadata": {},
   "outputs": [],
   "source": [
    "\"\"\" 7. What is a shortcut for the following code?\n",
    "if 'color' not in spam:\n",
    "spam['color'] = 'black'\n",
    "\n",
    "spam.setdefault('color', 'black')\n",
    "\n",
    "\"\"\""
   ]
  },
  {
   "cell_type": "code",
   "execution_count": null,
   "id": "86a373ee",
   "metadata": {},
   "outputs": [],
   "source": [
    "\"\"\"8. How do you \"pretty print\" dictionary values using which module and function?\n",
    "\n",
    "pprint.pprint()\n",
    "\n",
    "\n",
    "\"\"\""
   ]
  }
 ],
 "metadata": {
  "kernelspec": {
   "display_name": "Python 3 (ipykernel)",
   "language": "python",
   "name": "python3"
  },
  "language_info": {
   "codemirror_mode": {
    "name": "ipython",
    "version": 3
   },
   "file_extension": ".py",
   "mimetype": "text/x-python",
   "name": "python",
   "nbconvert_exporter": "python",
   "pygments_lexer": "ipython3",
   "version": "3.9.7"
  }
 },
 "nbformat": 4,
 "nbformat_minor": 5
}
