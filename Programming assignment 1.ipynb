{
 "cells": [
  {
   "cell_type": "code",
   "execution_count": 3,
   "id": "e162a60e",
   "metadata": {},
   "outputs": [
    {
     "name": "stdout",
     "output_type": "stream",
     "text": [
      "Hello Python\n"
     ]
    }
   ],
   "source": [
    "#1.Write a Python program to print \"Hello Python?\n",
    "print(\"Hello Python\")"
   ]
  },
  {
   "cell_type": "code",
   "execution_count": 14,
   "id": "24f2d93f",
   "metadata": {},
   "outputs": [
    {
     "name": "stdout",
     "output_type": "stream",
     "text": [
      "enter the first no50\n",
      "enter the second no10\n",
      "the sum of num1 & num2 is: 60\n",
      "the division of num1 & num2 is: 5.0\n"
     ]
    }
   ],
   "source": [
    "# 2.Write a Python program to do arithmetical operations addition and division.?\n",
    "num1 = int(input(\"enter the first no\"))\n",
    "num2 = int(input(\"enter the second no\"))\n",
    "#addition\n",
    "add = num1+num2\n",
    "#division\n",
    "div = num1/num2\n",
    "print(\"the sum of num1 & num2 is:\",add)\n",
    "print(\"the division of num1 & num2 is:\",div)"
   ]
  },
  {
   "cell_type": "code",
   "execution_count": 21,
   "id": "18057439",
   "metadata": {},
   "outputs": [
    {
     "name": "stdout",
     "output_type": "stream",
     "text": [
      "enter the first side5\n",
      "enetr the second side6\n",
      "enter the third side7\n",
      "The area of triangle is 14.70 \n"
     ]
    }
   ],
   "source": [
    "# 3.Write a Python program to find the area of a triangle?\n",
    "#three sides of triangle\n",
    "a = int(input(\"enter the first side\"))\n",
    "b = int (input(\"enetr the second side\"))\n",
    "c = int (input(\"enter the third side\"))\n",
    "# calculate the semi perimiter.\n",
    "s = (a+b+c)/2\n",
    "#area of triangle\n",
    "area = (s*(s-a)*(s-b)*(s-c))**.5\n",
    "print(\"The area of triangle is %0.2f \" %area)"
   ]
  },
  {
   "cell_type": "code",
   "execution_count": 25,
   "id": "236b4805",
   "metadata": {},
   "outputs": [
    {
     "name": "stdout",
     "output_type": "stream",
     "text": [
      "enter the 1st variable10\n",
      "enter the 2nd variable5\n",
      "values of a after swapping is 5\n",
      "values of b after swapping is 10\n"
     ]
    }
   ],
   "source": [
    "# 4.Write a Python program to swap two variables?\n",
    "a = input(\"enter the 1st variable\")\n",
    "b = input(\"enter the 2nd variable\")\n",
    "temp = a\n",
    "a = b\n",
    "b = temp\n",
    "print(\"values of a after swapping is\",a)\n",
    "print(\"values of b after swapping is\",b)"
   ]
  },
  {
   "cell_type": "code",
   "execution_count": 28,
   "id": "05a67d6b",
   "metadata": {},
   "outputs": [
    {
     "name": "stdout",
     "output_type": "stream",
     "text": [
      "0.23890255270704996\n"
     ]
    }
   ],
   "source": [
    "#5.Write a Python program to generate a random number?\n",
    "import random\n",
    "n = random.random()\n",
    "print(n)\n"
   ]
  },
  {
   "cell_type": "code",
   "execution_count": null,
   "id": "8b1fb80b",
   "metadata": {},
   "outputs": [],
   "source": []
  }
 ],
 "metadata": {
  "kernelspec": {
   "display_name": "Python 3 (ipykernel)",
   "language": "python",
   "name": "python3"
  },
  "language_info": {
   "codemirror_mode": {
    "name": "ipython",
    "version": 3
   },
   "file_extension": ".py",
   "mimetype": "text/x-python",
   "name": "python",
   "nbconvert_exporter": "python",
   "pygments_lexer": "ipython3",
   "version": "3.9.7"
  }
 },
 "nbformat": 4,
 "nbformat_minor": 5
}
