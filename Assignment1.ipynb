{
 "cells": [
  {
   "cell_type": "code",
   "execution_count": null,
   "id": "666f42bb",
   "metadata": {},
   "outputs": [],
   "source": [
    "####################### Assignment 1 Python #############\n",
    "\"\"\" \n",
    "1. In the below elements which of them are values or an expression? eg:- values can be integer or string and expressions will be mathematical operators.\n",
    "\n",
    "* = Expressions \n",
    "'hello' = Values\n",
    "-87.8 = Values\n",
    "- = Expressions\n",
    "/ = Expressions\n",
    "+ = Expressions\n",
    "6 = Values\n",
    "\n",
    "  \"\"\""
   ]
  },
  {
   "cell_type": "code",
   "execution_count": null,
   "id": "f2d85b9f",
   "metadata": {},
   "outputs": [],
   "source": [
    "\"\"\" 2. What is the difference between string and variable?\n",
    "String is an immutable sequence of data type it is the sequence of characters wraped inside single,double or triple quotes and a variable is a reserved memory location to store values. \n",
    "\n",
    "\"\"\""
   ]
  },
  {
   "cell_type": "code",
   "execution_count": null,
   "id": "ccf72ec0",
   "metadata": {},
   "outputs": [],
   "source": [
    "\"\"\" 3. Describe three different data types.\n",
    "Three different data types in python are\n",
    "1. String = \"rahul\" , \"avangers\"\n",
    "2.Integers = 54,5775,85585\n",
    "3.Lists = [1,2,4,5,5,5,5,\"rahul\"]\n",
    "\n",
    "\"\"\""
   ]
  },
  {
   "cell_type": "code",
   "execution_count": null,
   "id": "00276603",
   "metadata": {},
   "outputs": [],
   "source": [
    "\"\"\"4. What is an expression made up of? What do all expressions do?\n",
    "An Expressions is a combination of operators and operands that is interpreted to produce some other value.\n",
    "All expressions evaluate to a single value.\n",
    "\n",
    "\n",
    "\"\"\""
   ]
  },
  {
   "cell_type": "code",
   "execution_count": null,
   "id": "77b581f6",
   "metadata": {},
   "outputs": [],
   "source": [
    "\"\"\"  5. This assignment statements, like spam = 10. What is the difference between an expression and a statement?\n",
    "\n",
    "An expression is a sequence of values,variables,operators and function calls that always produces or return a result value for eg. x = 5,a=b+c\n",
    "Any instructions that a python interpreter can execute is called a statement for eg. spam =10\n",
    "\n",
    "\n",
    "\"\"\""
   ]
  },
  {
   "cell_type": "code",
   "execution_count": 3,
   "id": "e2a970ee",
   "metadata": {},
   "outputs": [
    {
     "data": {
      "text/plain": [
       "23"
      ]
     },
     "execution_count": 3,
     "metadata": {},
     "output_type": "execute_result"
    }
   ],
   "source": [
    "\"\"\" 6. After running the following code, what does the variable bacon contain?\n",
    "bacon = 22\n",
    "bacon + 1 \"\"\"\n",
    "bacon = 22\n",
    "bacon + 1"
   ]
  },
  {
   "cell_type": "code",
   "execution_count": 8,
   "id": "d0777271",
   "metadata": {},
   "outputs": [
    {
     "data": {
      "text/plain": [
       "'spamspamspam'"
      ]
     },
     "execution_count": 8,
     "metadata": {},
     "output_type": "execute_result"
    }
   ],
   "source": [
    "\"\"\"  7. What should the values of the following two terms be?\n",
    "'spam' + 'spamspam'\n",
    "'spam' * 3\n",
    "\"\"\"\n",
    "'spam' + 'spamspam'\n",
    "'spam' * 3"
   ]
  },
  {
   "cell_type": "code",
   "execution_count": 10,
   "id": "c06f37b7",
   "metadata": {},
   "outputs": [
    {
     "data": {
      "text/plain": [
       "'spamspamspam'"
      ]
     },
     "execution_count": 10,
     "metadata": {},
     "output_type": "execute_result"
    }
   ],
   "source": [
    "'spam' * 3"
   ]
  },
  {
   "cell_type": "code",
   "execution_count": null,
   "id": "9e1616c1",
   "metadata": {},
   "outputs": [],
   "source": [
    "\"\"\"8. Why is eggs a valid variable name while 100 is invalid?\n",
    "Variable name can not begin with number.\n",
    "\n",
    "\"\"\""
   ]
  },
  {
   "cell_type": "code",
   "execution_count": null,
   "id": "9a12206e",
   "metadata": {},
   "outputs": [],
   "source": [
    "\"\"\"9. What three functions can be used to get the integer, floating-point number, or string version of a value?\n",
    "for integer it is int()\n",
    "for floating point number it is float()\n",
    "for string it is str()\n",
    "\n",
    "\"\"\""
   ]
  },
  {
   "cell_type": "code",
   "execution_count": null,
   "id": "21e57df6",
   "metadata": {},
   "outputs": [],
   "source": [
    "\"\"\"  10. Why does this expression cause an error? How can you fix it?\n",
    "'I have eaten ' + 99 + ' burritos.'\n",
    "Only string can be concatenated with other strings so the correct way is\n",
    "'I have eaten ' + str(99) + ' burritos.'\n",
    "\n",
    "\n",
    "\"\"\""
   ]
  }
 ],
 "metadata": {
  "kernelspec": {
   "display_name": "Python 3 (ipykernel)",
   "language": "python",
   "name": "python3"
  },
  "language_info": {
   "codemirror_mode": {
    "name": "ipython",
    "version": 3
   },
   "file_extension": ".py",
   "mimetype": "text/x-python",
   "name": "python",
   "nbconvert_exporter": "python",
   "pygments_lexer": "ipython3",
   "version": "3.9.7"
  }
 },
 "nbformat": 4,
 "nbformat_minor": 5
}
