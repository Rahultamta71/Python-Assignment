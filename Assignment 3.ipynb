{
 "cells": [
  {
   "cell_type": "code",
   "execution_count": null,
   "id": "60b911bb",
   "metadata": {},
   "outputs": [],
   "source": [
    "\"\"\" 1. Why are functions advantageous to have in your programs?\n",
    "A function is a block of reusable code that is used to perform a secfic function. Advantages of functions are\n",
    "1. Reduction dulication of code\n",
    "2. Decomposing complex problems into simler pieces.\n",
    "3. Imroving clarity of code.\n",
    "4. Reuse of code\n",
    "5. Information hiding\n",
    "\"\"\""
   ]
  },
  {
   "cell_type": "code",
   "execution_count": null,
   "id": "71cb356e",
   "metadata": {},
   "outputs": [],
   "source": [
    "\"\"\" 2. When does the code in a function run: when it's specified or when it's called?\n",
    "When the function is called then the code will run,not when it is secified.\n",
    "\"\"\""
   ]
  },
  {
   "cell_type": "code",
   "execution_count": null,
   "id": "6b33dfa6",
   "metadata": {},
   "outputs": [],
   "source": [
    "\"\"\" 3. What statement creates a function?\n",
    "def functionname():\n",
    "\"\"\""
   ]
  },
  {
   "cell_type": "code",
   "execution_count": null,
   "id": "2390f01f",
   "metadata": {},
   "outputs": [],
   "source": [
    "\"\"\"4. What is the difference between a function and a function call?\n",
    "A function is a procedure to achieve a particular result while function call is using this funtion to achieve that task.\n",
    "\n",
    "\"\"\""
   ]
  },
  {
   "cell_type": "code",
   "execution_count": null,
   "id": "67d746a7",
   "metadata": {},
   "outputs": [],
   "source": [
    "\"\"\" 5. How many global scopes are there in a Python program? How many local scopes?\n",
    "There is one global scope in python, and a local scope is created whenever a function is called.\n",
    "\n",
    "\"\"\""
   ]
  },
  {
   "cell_type": "code",
   "execution_count": null,
   "id": "c90c7aad",
   "metadata": {},
   "outputs": [],
   "source": [
    "\"\"\" 6. What happens to variables in a local scope when the function call returns?\n",
    "When a funtion calls return than the local scope is destroyed and all the variables in it are forgotten.\n",
    "\n",
    "\"\"\""
   ]
  },
  {
   "cell_type": "code",
   "execution_count": null,
   "id": "5b8eb0c8",
   "metadata": {},
   "outputs": [],
   "source": [
    "\"\"\"7. What is the concept of a return value? Is it possible to have a return value in an expression?\n",
    "A return statement is used to end the execution of the function call & returns the result to the caller. Like any value a return value can be used as part of an expression.\n",
    "\n",
    "\"\"\""
   ]
  },
  {
   "cell_type": "code",
   "execution_count": null,
   "id": "87a8a279",
   "metadata": {},
   "outputs": [],
   "source": [
    "\"\"\"8. If a function does not have a return statement, what is the return value of a call to that function?\n",
    "If funtion doesnt have a return statement then the special value none is returned. \n",
    "\n",
    "\"\"\""
   ]
  },
  {
   "cell_type": "code",
   "execution_count": null,
   "id": "1b551c89",
   "metadata": {},
   "outputs": [],
   "source": [
    "\"\"\" 9. How do you make a function variable refer to the global variable?\n",
    "If you want to refer to a global variable in a function you can use the global keyword to declare which variables are global.\n",
    "\"\"\""
   ]
  },
  {
   "cell_type": "code",
   "execution_count": null,
   "id": "36402c66",
   "metadata": {},
   "outputs": [],
   "source": [
    "\"\"\"10. What is the data type of None?\n",
    "Data type of none is nonetype.\n",
    "\"\"\""
   ]
  },
  {
   "cell_type": "code",
   "execution_count": null,
   "id": "a548c16a",
   "metadata": {},
   "outputs": [],
   "source": [
    "\"\"\"11. What does the sentence import areallyourpetsnamederic do?\n",
    "Import statement imports a module named areallyourpetsnamederic.\n",
    "\"\"\""
   ]
  },
  {
   "cell_type": "code",
   "execution_count": null,
   "id": "a8604888",
   "metadata": {},
   "outputs": [],
   "source": [
    "\"\"\" 12. If you had a bacon() feature in a spam module, what would you call it after importing spam?\n",
    "spam.bacon()\n",
    "\n",
    "\"\"\""
   ]
  },
  {
   "cell_type": "code",
   "execution_count": null,
   "id": "c985c91d",
   "metadata": {},
   "outputs": [],
   "source": [
    "\"\"\" 13. What can you do to save a programme from crashing if it encounters an error?\n",
    "If a program encounter an error we use exception handling to write code in try and except block when it encountered with an error the control is passed to the except block and the program will not crashed.\n",
    "\n",
    "\"\"\""
   ]
  },
  {
   "cell_type": "code",
   "execution_count": null,
   "id": "91ae3bbb",
   "metadata": {},
   "outputs": [],
   "source": [
    "\"\"\" 14. What is the purpose of the try clause? What is the purpose of the except clause?\n",
    "In try clause the code could otentially cause an error goes to try clause and in except clause the code that execute if an error happen goes to excet clause.\n",
    "\n",
    "\"\"\""
   ]
  }
 ],
 "metadata": {
  "kernelspec": {
   "display_name": "Python 3 (ipykernel)",
   "language": "python",
   "name": "python3"
  },
  "language_info": {
   "codemirror_mode": {
    "name": "ipython",
    "version": 3
   },
   "file_extension": ".py",
   "mimetype": "text/x-python",
   "name": "python",
   "nbconvert_exporter": "python",
   "pygments_lexer": "ipython3",
   "version": "3.9.7"
  }
 },
 "nbformat": 4,
 "nbformat_minor": 5
}
