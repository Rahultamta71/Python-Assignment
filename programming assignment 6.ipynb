{
 "cells": [
  {
   "cell_type": "code",
   "execution_count": 18,
   "id": "9809ace3",
   "metadata": {},
   "outputs": [
    {
     "name": "stdout",
     "output_type": "stream",
     "text": [
      "Enter the number 10\n",
      "Fibonacci sequence\n",
      "0\n",
      "1\n",
      "1\n",
      "2\n",
      "3\n",
      "5\n",
      "8\n",
      "13\n",
      "21\n",
      "34\n"
     ]
    }
   ],
   "source": [
    "# 1.Write a Python Program to Display Fibonacci Sequence Using Recursion?\n",
    "                    \n",
    "def Fib(a):\n",
    "    if a <= 1:\n",
    "        return a\n",
    "    else:\n",
    "        return(Fib(a-1) + Fib(a-2))\n",
    "num = int(input(\"Enter the number \"))\n",
    "if num <= 0:\n",
    "    print(\"Please enter a positive integer\")\n",
    "else:\n",
    "    print(\"Fibonacci sequence\")\n",
    "    for i in range(num):\n",
    "        print(Fib(i))\n",
    "        \n",
    "\n",
    " "
   ]
  },
  {
   "cell_type": "code",
   "execution_count": 22,
   "id": "1ad3ffa3",
   "metadata": {},
   "outputs": [
    {
     "name": "stdout",
     "output_type": "stream",
     "text": [
      "Enter the number10\n",
      "Factorial  3628800\n"
     ]
    }
   ],
   "source": [
    "# 2.Write a Python Program to Find Factorial of Number Using Recursion?\n",
    "def factorial(n):\n",
    "    if (n == 0 or n == 1):\n",
    "        return 1\n",
    "    else:\n",
    "        return (n * factorial(n-1))\n",
    "num = int(input(\"Enter the number\"))\n",
    "print(\"Factorial \" , factorial(num))"
   ]
  },
  {
   "cell_type": "code",
   "execution_count": 30,
   "id": "7fb330b8",
   "metadata": {},
   "outputs": [
    {
     "name": "stdout",
     "output_type": "stream",
     "text": [
      "Enter your height in meter 1.89\n",
      "Enter your weight in kg 70\n",
      "The BMI is 19.59631589261219\n"
     ]
    }
   ],
   "source": [
    "# 3.Write a Python Program to calculate your Body Mass Index?\n",
    "def BMI(height,weight):\n",
    "    bmi = weight/(height**2)\n",
    "    return bmi\n",
    "height = float(input(\"Enter your height in meter \"))\n",
    "weight = float(input(\"Enter your weight in kg \"))\n",
    "bmi = BMI(height, weight)\n",
    "print(\"The BMI is\", format(bmi))"
   ]
  },
  {
   "cell_type": "code",
   "execution_count": 34,
   "id": "7d96f61f",
   "metadata": {},
   "outputs": [
    {
     "name": "stdout",
     "output_type": "stream",
     "text": [
      "Enter the number 20\n",
      "natural logarithm of 20 is\n",
      "2.995732273553991\n"
     ]
    }
   ],
   "source": [
    "# 4.Write a Python Program to calculate the natural logarithm of any number?\n",
    "import math\n",
    "num = int(input(\"Enter the number \"))\n",
    "print(\"natural logarithm of\" , num , \"is\")\n",
    "print(math.log(num))"
   ]
  },
  {
   "cell_type": "code",
   "execution_count": 46,
   "id": "1f0aa2da",
   "metadata": {},
   "outputs": [
    {
     "name": "stdout",
     "output_type": "stream",
     "text": [
      "Enter the number 3\n",
      "Total sum is 36\n"
     ]
    }
   ],
   "source": [
    "# 5.Write a Python Program for cube sum of first n natural numbers?\n",
    "def sumofseries(n):\n",
    "    sum = 0\n",
    "    for i in range(1,n+1):\n",
    "        sum += i*i*i\n",
    "    return sum\n",
    "n = int(input(\"Enter the number \"))\n",
    "print(\"Total sum is\" , sumofseries(n))"
   ]
  },
  {
   "cell_type": "code",
   "execution_count": null,
   "id": "d5384907",
   "metadata": {},
   "outputs": [],
   "source": []
  }
 ],
 "metadata": {
  "kernelspec": {
   "display_name": "Python 3 (ipykernel)",
   "language": "python",
   "name": "python3"
  },
  "language_info": {
   "codemirror_mode": {
    "name": "ipython",
    "version": 3
   },
   "file_extension": ".py",
   "mimetype": "text/x-python",
   "name": "python",
   "nbconvert_exporter": "python",
   "pygments_lexer": "ipython3",
   "version": "3.9.7"
  }
 },
 "nbformat": 4,
 "nbformat_minor": 5
}
