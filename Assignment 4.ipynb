{
 "cells": [
  {
   "cell_type": "code",
   "execution_count": null,
   "id": "ab7ef819",
   "metadata": {},
   "outputs": [],
   "source": [
    "\"\"\" 1. What exactly is []?\n",
    "This ia an empty list, there are no items in this list\n",
    "\"\"\""
   ]
  },
  {
   "cell_type": "code",
   "execution_count": null,
   "id": "0145b0a4",
   "metadata": {},
   "outputs": [],
   "source": [
    "\"\"\" 2. In a list of values stored in a variable called spam, how would you assign the value 'hello' as the third value? (Assume [2, 4, 6, 8, 10] are in spam.)\n",
    "Let's pretend the spam includes the list ['a', 'b', 'c', 'd'] for the next three queries.\n",
    "\n",
    "spam =[2,4,6,8,10]\n",
    "spam[2] = \"hello\"\n",
    "spam\n",
    "\n",
    "\n",
    "\"\"\""
   ]
  },
  {
   "cell_type": "code",
   "execution_count": 1,
   "id": "b70ac6d5",
   "metadata": {},
   "outputs": [],
   "source": [
    "########### answer 2########\n",
    "spam = [2,4,6,8,10]"
   ]
  },
  {
   "cell_type": "code",
   "execution_count": 2,
   "id": "15537b0a",
   "metadata": {},
   "outputs": [
    {
     "data": {
      "text/plain": [
       "[2, 4, 6, 8, 10]"
      ]
     },
     "execution_count": 2,
     "metadata": {},
     "output_type": "execute_result"
    }
   ],
   "source": [
    "spam"
   ]
  },
  {
   "cell_type": "code",
   "execution_count": 3,
   "id": "4eef1ff9",
   "metadata": {},
   "outputs": [],
   "source": [
    "spam[2]=\"hello\""
   ]
  },
  {
   "cell_type": "code",
   "execution_count": 4,
   "id": "654318e8",
   "metadata": {},
   "outputs": [
    {
     "data": {
      "text/plain": [
       "[2, 4, 'hello', 8, 10]"
      ]
     },
     "execution_count": 4,
     "metadata": {},
     "output_type": "execute_result"
    }
   ],
   "source": [
    "spam"
   ]
  },
  {
   "cell_type": "code",
   "execution_count": null,
   "id": "6d830987",
   "metadata": {},
   "outputs": [],
   "source": [
    "\"\"\" 3. What is the value of spam[int(int('3' * 2) / 11)]?\n",
    "\n",
    "\"\"\""
   ]
  },
  {
   "cell_type": "code",
   "execution_count": 5,
   "id": "404398ed",
   "metadata": {},
   "outputs": [],
   "source": [
    "####### answer 3######\n",
    "spam =[\"a\",\"b\",\"c\",\"d\"]"
   ]
  },
  {
   "cell_type": "code",
   "execution_count": 6,
   "id": "c45e7e24",
   "metadata": {},
   "outputs": [
    {
     "data": {
      "text/plain": [
       "'d'"
      ]
     },
     "execution_count": 6,
     "metadata": {},
     "output_type": "execute_result"
    }
   ],
   "source": [
    "spam[int(int(\"3\"*2)/11)]"
   ]
  },
  {
   "cell_type": "code",
   "execution_count": 8,
   "id": "6436b6c4",
   "metadata": {},
   "outputs": [
    {
     "data": {
      "text/plain": [
       "'d'"
      ]
     },
     "execution_count": 8,
     "metadata": {},
     "output_type": "execute_result"
    }
   ],
   "source": [
    "\"\"\"4. What is the value of spam[-1]?\n",
    "\"\"\"\n",
    "spam[-1]"
   ]
  },
  {
   "cell_type": "code",
   "execution_count": 9,
   "id": "97b4ae30",
   "metadata": {},
   "outputs": [
    {
     "data": {
      "text/plain": [
       "['a', 'b']"
      ]
     },
     "execution_count": 9,
     "metadata": {},
     "output_type": "execute_result"
    }
   ],
   "source": [
    "\"\"\"5. What is the value of spam[:2]?\n",
    "Let's pretend bacon has the list [3.14, 'cat,' 11, 'cat,' True] for the next three questions.\n",
    "\n",
    "\"\"\"\n",
    "spam[:2]"
   ]
  },
  {
   "cell_type": "code",
   "execution_count": 17,
   "id": "7b62962c",
   "metadata": {},
   "outputs": [
    {
     "data": {
      "text/plain": [
       "1"
      ]
     },
     "execution_count": 17,
     "metadata": {},
     "output_type": "execute_result"
    }
   ],
   "source": [
    "\"\"\"6. What is the value of bacon.index('cat')?\"\"\"\n",
    "bacon = [3.14 , \"cat\" , 11 , \"cat\" , True]\n",
    "bacon.index(\"cat\")\n"
   ]
  },
  {
   "cell_type": "code",
   "execution_count": 19,
   "id": "2f4fcc56",
   "metadata": {},
   "outputs": [
    {
     "data": {
      "text/plain": [
       "[3.14, 'cat', 11, 'cat', True, 99]"
      ]
     },
     "execution_count": 19,
     "metadata": {},
     "output_type": "execute_result"
    }
   ],
   "source": [
    "\"\"\"7. How does bacon.append(99) change the look of the list value in bacon?\"\"\"\n",
    "bacon.append(99)\n",
    "bacon"
   ]
  },
  {
   "cell_type": "code",
   "execution_count": 20,
   "id": "0cc1213f",
   "metadata": {},
   "outputs": [
    {
     "data": {
      "text/plain": [
       "[3.14, 11, 'cat', True, 99]"
      ]
     },
     "execution_count": 20,
     "metadata": {},
     "output_type": "execute_result"
    }
   ],
   "source": [
    "\" 8. How does bacon.remove('cat') change the look of the list in bacon? \"\n",
    "bacon.remove(\"cat\")\n",
    "bacon\n"
   ]
  },
  {
   "cell_type": "code",
   "execution_count": null,
   "id": "b65e4ef4",
   "metadata": {},
   "outputs": [],
   "source": [
    "\"\"\" 9. What are the list concatenation and list replication operators?\n",
    "The operator for list concatenation is +, while the operator for list replication is *.\n",
    "\"\"\""
   ]
  },
  {
   "cell_type": "code",
   "execution_count": null,
   "id": "bdd06402",
   "metadata": {},
   "outputs": [],
   "source": [
    "\"\"\"10. What is difference between the list methods append() and insert()?\n",
    "append()is used to add values at the end of an list while insert() is used to add values anywhere in list.\n",
    "\"\"\""
   ]
  },
  {
   "cell_type": "code",
   "execution_count": null,
   "id": "d4d21cd2",
   "metadata": {},
   "outputs": [],
   "source": [
    "\"\"\" 11. What are the two methods for removing items from a list?\n",
    "Two methods for removing items from a list are remove() & pop().\n",
    "\n",
    "\"\"\""
   ]
  },
  {
   "cell_type": "code",
   "execution_count": null,
   "id": "f79c98ee",
   "metadata": {},
   "outputs": [],
   "source": [
    "\"\"\"12. Describe how list values and string values are identical.\n",
    "The similarity between list values and strings is that both are sequences. the differences between them are that firstly list are mutable but strings are immutable. secondly elements of a list can be of different types whereas a string only contains characters that are all of string type.\n",
    "\n",
    "\"\"\""
   ]
  },
  {
   "cell_type": "code",
   "execution_count": null,
   "id": "b843c4be",
   "metadata": {},
   "outputs": [],
   "source": [
    "\"\"\" 13. What's the difference between tuples and lists?\n",
    "Tuples are immutable entity they cannot be changed at all and tulples are written using paranthesis(). Lists are mutable entity we can add,remove & changed values inside a list and list are written using square bracket [].\n",
    "\"\"\""
   ]
  },
  {
   "cell_type": "code",
   "execution_count": 25,
   "id": "87942c5e",
   "metadata": {},
   "outputs": [
    {
     "data": {
      "text/plain": [
       "tuple"
      ]
     },
     "execution_count": 25,
     "metadata": {},
     "output_type": "execute_result"
    }
   ],
   "source": [
    "\"\"\" 14. How do you type a tuple value that only contains the integer 42?\n",
    "\"\"\"\n",
    "a =(42,)\n",
    "type(a)"
   ]
  },
  {
   "cell_type": "code",
   "execution_count": 38,
   "id": "75b41dcf",
   "metadata": {},
   "outputs": [
    {
     "data": {
      "text/plain": [
       "[1, 2, 34, 3]"
      ]
     },
     "execution_count": 38,
     "metadata": {},
     "output_type": "execute_result"
    }
   ],
   "source": [
    "\"\"\"15. How do you get a list value's tuple form? How do you get a tuple value's list form?\"\"\"\n",
    "#calling list value from tuple\n",
    "a = (1,2,34,3)\n",
    "(list(a))"
   ]
  },
  {
   "cell_type": "code",
   "execution_count": 39,
   "id": "36c0d2aa",
   "metadata": {},
   "outputs": [
    {
     "data": {
      "text/plain": [
       "(1, 3, 4, 5, 5)"
      ]
     },
     "execution_count": 39,
     "metadata": {},
     "output_type": "execute_result"
    }
   ],
   "source": [
    "#calling tuple value from list.\n",
    "mylist = [1,3,4,5,5]\n",
    "tuple((mylist))"
   ]
  },
  {
   "cell_type": "code",
   "execution_count": null,
   "id": "ccac150c",
   "metadata": {},
   "outputs": [],
   "source": [
    "\"\"\"16. Variables that \"contain\" list values are not necessarily lists themselves. Instead, what do they contain?\n",
    "They contain references to list values.\n",
    "\"\"\""
   ]
  },
  {
   "cell_type": "code",
   "execution_count": null,
   "id": "f89ff79c",
   "metadata": {},
   "outputs": [],
   "source": [
    "\"\"\"17. How do you distinguish between copy.copy() and copy.deepcopy()?\n",
    "A shallow copy copy.copy() creates a new object which stores the reference of the original elements while a deep copy copy.deepcopy() creates a new object and recursively adds the copies of nested objects present in the original elements.\n",
    "\n",
    "\"\"\""
   ]
  }
 ],
 "metadata": {
  "kernelspec": {
   "display_name": "Python 3 (ipykernel)",
   "language": "python",
   "name": "python3"
  },
  "language_info": {
   "codemirror_mode": {
    "name": "ipython",
    "version": 3
   },
   "file_extension": ".py",
   "mimetype": "text/x-python",
   "name": "python",
   "nbconvert_exporter": "python",
   "pygments_lexer": "ipython3",
   "version": "3.9.7"
  }
 },
 "nbformat": 4,
 "nbformat_minor": 5
}
